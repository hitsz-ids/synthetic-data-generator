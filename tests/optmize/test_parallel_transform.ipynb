{
 "cells": [
  {
   "cell_type": "code",
   "id": "initial_id",
   "metadata": {
    "collapsed": true,
    "ExecuteTime": {
     "end_time": "2024-11-04T14:33:12.570328Z",
     "start_time": "2024-11-04T14:33:11.453418Z"
    }
   },
   "source": "from test_parallel_transform import test_parallel_transform_fixed, test_parallel_transform_unfixed, test_parallel_transform_fixed_not_columns_switching, test_parallel_transform_unfixed_caused_columns_switching",
   "outputs": [],
   "execution_count": 1
  },
  {
   "metadata": {
    "ExecuteTime": {
     "end_time": "2024-11-04T14:33:17.804362Z",
     "start_time": "2024-11-04T14:33:12.572322Z"
    }
   },
   "cell_type": "code",
   "source": "test_parallel_transform_fixed()",
   "id": "ff0d606be2bfd25f",
   "outputs": [
    {
     "name": "stderr",
     "output_type": "stream",
     "text": [
      "\u001B[32m2024-11-04 22:33:12.587\u001B[0m | \u001B[1mINFO    \u001B[0m | \u001B[36msdgx.data_models.metadata\u001B[0m:\u001B[36mfrom_dataloader\u001B[0m:\u001B[36m291\u001B[0m - \u001B[1mInspecting metadata...\u001B[0m\n",
      "\u001B[32m2024-11-04 22:33:12.729\u001B[0m | \u001B[1mINFO    \u001B[0m | \u001B[36msdgx.data_models.metadata\u001B[0m:\u001B[36mupdate_primary_key\u001B[0m:\u001B[36m496\u001B[0m - \u001B[1mPrimary Key updated: {'id'}.\u001B[0m\n"
     ]
    }
   ],
   "execution_count": 2
  },
  {
   "metadata": {
    "ExecuteTime": {
     "end_time": "2024-11-04T14:33:22.222134Z",
     "start_time": "2024-11-04T14:33:17.805355Z"
    }
   },
   "cell_type": "code",
   "source": "test_parallel_transform_unfixed()",
   "id": "7f729fdbe59daeec",
   "outputs": [
    {
     "name": "stderr",
     "output_type": "stream",
     "text": [
      "\u001B[32m2024-11-04 22:33:17.810\u001B[0m | \u001B[1mINFO    \u001B[0m | \u001B[36msdgx.data_models.metadata\u001B[0m:\u001B[36mfrom_dataloader\u001B[0m:\u001B[36m291\u001B[0m - \u001B[1mInspecting metadata...\u001B[0m\n",
      "\u001B[32m2024-11-04 22:33:17.921\u001B[0m | \u001B[1mINFO    \u001B[0m | \u001B[36msdgx.data_models.metadata\u001B[0m:\u001B[36mupdate_primary_key\u001B[0m:\u001B[36m496\u001B[0m - \u001B[1mPrimary Key updated: {'id'}.\u001B[0m\n"
     ]
    },
    {
     "name": "stdout",
     "output_type": "stream",
     "text": [
      "Caught warning: invalid value encountered in log\n"
     ]
    },
    {
     "ename": "AssertionError",
     "evalue": "",
     "output_type": "error",
     "traceback": [
      "\u001B[1;31m---------------------------------------------------------------------------\u001B[0m",
      "\u001B[1;31mAssertionError\u001B[0m                            Traceback (most recent call last)",
      "Cell \u001B[1;32mIn[3], line 1\u001B[0m\n\u001B[1;32m----> 1\u001B[0m \u001B[43mtest_parallel_transform_unfixed\u001B[49m\u001B[43m(\u001B[49m\u001B[43m)\u001B[49m\n",
      "File \u001B[1;32m~\\Desktop\\GitHub\\synthetic-data-generator\\tests\\optmize\\test_parallel_transform.py:65\u001B[0m, in \u001B[0;36mtest_parallel_transform_unfixed\u001B[1;34m()\u001B[0m\n\u001B[0;32m     63\u001B[0m \u001B[38;5;66;03m# start test\u001B[39;00m\n\u001B[0;32m     64\u001B[0m ndarry_loader \u001B[38;5;241m=\u001B[39m unfixed_parallel_transform(transformer, data_loader, transformer\u001B[38;5;241m.\u001B[39m_column_transform_info_list)\n\u001B[1;32m---> 65\u001B[0m data_sampler \u001B[38;5;241m=\u001B[39m \u001B[43mDataSampler\u001B[49m\u001B[43m(\u001B[49m\u001B[43mndarry_loader\u001B[49m\u001B[43m,\u001B[49m\u001B[43m \u001B[49m\u001B[43mtransformer\u001B[49m\u001B[38;5;241;43m.\u001B[39;49m\u001B[43moutput_info_list\u001B[49m\u001B[43m,\u001B[49m\u001B[43m \u001B[49m\u001B[38;5;28;43;01mTrue\u001B[39;49;00m\u001B[43m)\u001B[49m\n",
      "File \u001B[1;32m~\\Desktop\\GitHub\\synthetic-data-generator\\sdgx\\models\\components\\optimize\\sdv_ctgan\\data_sampler.py:69\u001B[0m, in \u001B[0;36mDataSampler.__init__\u001B[1;34m(self, data, output_info, log_frequency)\u001B[0m\n\u001B[0;32m     67\u001B[0m category_freq \u001B[38;5;241m=\u001B[39m np\u001B[38;5;241m.\u001B[39msum(data[:, st:ed], axis\u001B[38;5;241m=\u001B[39m\u001B[38;5;241m0\u001B[39m)\n\u001B[0;32m     68\u001B[0m \u001B[38;5;28;01mif\u001B[39;00m log_frequency:\n\u001B[1;32m---> 69\u001B[0m     category_freq \u001B[38;5;241m=\u001B[39m \u001B[43mnp\u001B[49m\u001B[38;5;241;43m.\u001B[39;49m\u001B[43mlog\u001B[49m\u001B[43m(\u001B[49m\u001B[43mcategory_freq\u001B[49m\u001B[43m \u001B[49m\u001B[38;5;241;43m+\u001B[39;49m\u001B[43m \u001B[49m\u001B[38;5;241;43m1\u001B[39;49m\u001B[43m)\u001B[49m\n\u001B[0;32m     70\u001B[0m category_prob \u001B[38;5;241m=\u001B[39m category_freq \u001B[38;5;241m/\u001B[39m np\u001B[38;5;241m.\u001B[39msum(category_freq)\n\u001B[0;32m     71\u001B[0m \u001B[38;5;28mself\u001B[39m\u001B[38;5;241m.\u001B[39m_discrete_column_category_prob[current_id, : span_info\u001B[38;5;241m.\u001B[39mdim] \u001B[38;5;241m=\u001B[39m category_prob\n",
      "File \u001B[1;32m~\\.conda\\envs\\synthetic-data-generator\\lib\\warnings.py:109\u001B[0m, in \u001B[0;36m_showwarnmsg\u001B[1;34m(msg)\u001B[0m\n\u001B[0;32m    105\u001B[0m         \u001B[38;5;28;01mif\u001B[39;00m \u001B[38;5;129;01mnot\u001B[39;00m \u001B[38;5;28mcallable\u001B[39m(sw):\n\u001B[0;32m    106\u001B[0m             \u001B[38;5;28;01mraise\u001B[39;00m \u001B[38;5;167;01mTypeError\u001B[39;00m(\u001B[38;5;124m\"\u001B[39m\u001B[38;5;124mwarnings.showwarning() must be set to a \u001B[39m\u001B[38;5;124m\"\u001B[39m\n\u001B[0;32m    107\u001B[0m                             \u001B[38;5;124m\"\u001B[39m\u001B[38;5;124mfunction or method\u001B[39m\u001B[38;5;124m\"\u001B[39m)\n\u001B[1;32m--> 109\u001B[0m         \u001B[43msw\u001B[49m\u001B[43m(\u001B[49m\u001B[43mmsg\u001B[49m\u001B[38;5;241;43m.\u001B[39;49m\u001B[43mmessage\u001B[49m\u001B[43m,\u001B[49m\u001B[43m \u001B[49m\u001B[43mmsg\u001B[49m\u001B[38;5;241;43m.\u001B[39;49m\u001B[43mcategory\u001B[49m\u001B[43m,\u001B[49m\u001B[43m \u001B[49m\u001B[43mmsg\u001B[49m\u001B[38;5;241;43m.\u001B[39;49m\u001B[43mfilename\u001B[49m\u001B[43m,\u001B[49m\u001B[43m \u001B[49m\u001B[43mmsg\u001B[49m\u001B[38;5;241;43m.\u001B[39;49m\u001B[43mlineno\u001B[49m\u001B[43m,\u001B[49m\n\u001B[0;32m    110\u001B[0m \u001B[43m           \u001B[49m\u001B[43mmsg\u001B[49m\u001B[38;5;241;43m.\u001B[39;49m\u001B[43mfile\u001B[49m\u001B[43m,\u001B[49m\u001B[43m \u001B[49m\u001B[43mmsg\u001B[49m\u001B[38;5;241;43m.\u001B[39;49m\u001B[43mline\u001B[49m\u001B[43m)\u001B[49m\n\u001B[0;32m    111\u001B[0m         \u001B[38;5;28;01mreturn\u001B[39;00m\n\u001B[0;32m    112\u001B[0m _showwarnmsg_impl(msg)\n",
      "File \u001B[1;32m~\\Desktop\\GitHub\\synthetic-data-generator\\tests\\optmize\\test_parallel_transform.py:15\u001B[0m, in \u001B[0;36mcustom_warning_handler\u001B[1;34m(e, category, filename, lineno, file, line)\u001B[0m\n\u001B[0;32m     13\u001B[0m \u001B[38;5;28;01mdef\u001B[39;00m \u001B[38;5;21mcustom_warning_handler\u001B[39m(e, category, filename, lineno, file\u001B[38;5;241m=\u001B[39m\u001B[38;5;28;01mNone\u001B[39;00m, line\u001B[38;5;241m=\u001B[39m\u001B[38;5;28;01mNone\u001B[39;00m):\n\u001B[0;32m     14\u001B[0m     \u001B[38;5;28mprint\u001B[39m(\u001B[38;5;124mf\u001B[39m\u001B[38;5;124m\"\u001B[39m\u001B[38;5;124mCaught warning: \u001B[39m\u001B[38;5;132;01m{\u001B[39;00me\u001B[38;5;132;01m}\u001B[39;00m\u001B[38;5;124m\"\u001B[39m)\n\u001B[1;32m---> 15\u001B[0m     \u001B[38;5;28;01massert\u001B[39;00m \u001B[38;5;28mrepr\u001B[39m(e)\u001B[38;5;241m.\u001B[39mfind(\u001B[38;5;124m\"\u001B[39m\u001B[38;5;124minvalid value encountered in log\u001B[39m\u001B[38;5;124m\"\u001B[39m) \u001B[38;5;241m==\u001B[39m \u001B[38;5;241m-\u001B[39m\u001B[38;5;241m1\u001B[39m\n",
      "\u001B[1;31mAssertionError\u001B[0m: "
     ]
    }
   ],
   "execution_count": 3
  },
  {
   "metadata": {
    "ExecuteTime": {
     "end_time": "2024-11-04T14:33:35.638603Z",
     "start_time": "2024-11-04T14:33:31.874044Z"
    }
   },
   "cell_type": "code",
   "source": "test_parallel_transform_fixed_not_columns_switching()",
   "id": "5d327b8d1fdc0f3f",
   "outputs": [
    {
     "name": "stderr",
     "output_type": "stream",
     "text": [
      "\u001B[32m2024-11-04 22:33:31.878\u001B[0m | \u001B[1mINFO    \u001B[0m | \u001B[36msdgx.data_models.metadata\u001B[0m:\u001B[36mfrom_dataloader\u001B[0m:\u001B[36m291\u001B[0m - \u001B[1mInspecting metadata...\u001B[0m\n",
      "\u001B[32m2024-11-04 22:33:31.980\u001B[0m | \u001B[1mINFO    \u001B[0m | \u001B[36msdgx.data_models.metadata\u001B[0m:\u001B[36mupdate_primary_key\u001B[0m:\u001B[36m496\u001B[0m - \u001B[1mPrimary Key updated: {'id'}.\u001B[0m\n"
     ]
    }
   ],
   "execution_count": 4
  },
  {
   "metadata": {
    "ExecuteTime": {
     "end_time": "2024-11-04T14:33:40.395645Z",
     "start_time": "2024-11-04T14:33:36.843031Z"
    }
   },
   "cell_type": "code",
   "source": "test_parallel_transform_unfixed_caused_columns_switching()",
   "id": "de73a6c3b3c45abb",
   "outputs": [
    {
     "name": "stderr",
     "output_type": "stream",
     "text": [
      "\u001B[32m2024-11-04 22:33:36.846\u001B[0m | \u001B[1mINFO    \u001B[0m | \u001B[36msdgx.data_models.metadata\u001B[0m:\u001B[36mfrom_dataloader\u001B[0m:\u001B[36m291\u001B[0m - \u001B[1mInspecting metadata...\u001B[0m\n",
      "\u001B[32m2024-11-04 22:33:36.950\u001B[0m | \u001B[1mINFO    \u001B[0m | \u001B[36msdgx.data_models.metadata\u001B[0m:\u001B[36mupdate_primary_key\u001B[0m:\u001B[36m496\u001B[0m - \u001B[1mPrimary Key updated: {'id'}.\u001B[0m\n"
     ]
    },
    {
     "ename": "AssertionError",
     "evalue": "",
     "output_type": "error",
     "traceback": [
      "\u001B[1;31m---------------------------------------------------------------------------\u001B[0m",
      "\u001B[1;31mAssertionError\u001B[0m                            Traceback (most recent call last)",
      "Cell \u001B[1;32mIn[5], line 1\u001B[0m\n\u001B[1;32m----> 1\u001B[0m \u001B[43mtest_parallel_transform_unfixed_caused_columns_switching\u001B[49m\u001B[43m(\u001B[49m\u001B[43m)\u001B[49m\n",
      "File \u001B[1;32m~\\Desktop\\GitHub\\synthetic-data-generator\\tests\\optmize\\test_parallel_transform.py:86\u001B[0m, in \u001B[0;36mtest_parallel_transform_unfixed_caused_columns_switching\u001B[1;34m()\u001B[0m\n\u001B[0;32m     83\u001B[0m unfixed_transformer, unfixed_data_loader \u001B[38;5;241m=\u001B[39m preparing_data()\n\u001B[0;32m     84\u001B[0m unfixed_ndarry_loader \u001B[38;5;241m=\u001B[39m unfixed_parallel_transform(unfixed_transformer, unfixed_data_loader,unfixed_transformer\u001B[38;5;241m.\u001B[39m_column_transform_info_list)\n\u001B[1;32m---> 86\u001B[0m \u001B[43mfind_not_matching_column_type\u001B[49m\u001B[43m(\u001B[49m\u001B[43munfixed_ndarry_loader\u001B[49m\u001B[43m,\u001B[49m\u001B[43m \u001B[49m\u001B[43munfixed_transformer\u001B[49m\u001B[38;5;241;43m.\u001B[39;49m\u001B[43m_column_transform_info_list\u001B[49m\u001B[43m)\u001B[49m\n",
      "File \u001B[1;32m~\\Desktop\\GitHub\\synthetic-data-generator\\tests\\optmize\\test_parallel_transform.py:74\u001B[0m, in \u001B[0;36mfind_not_matching_column_type\u001B[1;34m(data, column_transform_info_list)\u001B[0m\n\u001B[0;32m     72\u001B[0m     arr \u001B[38;5;241m=\u001B[39m data[:, col_index:col_index\u001B[38;5;241m+\u001B[39moutput_dim]\n\u001B[0;32m     73\u001B[0m     \u001B[38;5;66;03m# if bug occurred, the arr is switched as continuous\u001B[39;00m\n\u001B[1;32m---> 74\u001B[0m     \u001B[38;5;28;01massert\u001B[39;00m np\u001B[38;5;241m.\u001B[39mall((arr \u001B[38;5;241m==\u001B[39m \u001B[38;5;241m0\u001B[39m) \u001B[38;5;241m|\u001B[39m (arr \u001B[38;5;241m==\u001B[39m \u001B[38;5;241m1\u001B[39m))\n\u001B[0;32m     75\u001B[0m col_index \u001B[38;5;241m+\u001B[39m\u001B[38;5;241m=\u001B[39m output_dim\n",
      "\u001B[1;31mAssertionError\u001B[0m: "
     ]
    }
   ],
   "execution_count": 5
  },
  {
   "metadata": {},
   "cell_type": "code",
   "outputs": [],
   "execution_count": null,
   "source": "",
   "id": "b3ff3dcc72155eef"
  }
 ],
 "metadata": {
  "kernelspec": {
   "display_name": "Python 3",
   "language": "python",
   "name": "python3"
  },
  "language_info": {
   "codemirror_mode": {
    "name": "ipython",
    "version": 2
   },
   "file_extension": ".py",
   "mimetype": "text/x-python",
   "name": "python",
   "nbconvert_exporter": "python",
   "pygments_lexer": "ipython2",
   "version": "2.7.6"
  }
 },
 "nbformat": 4,
 "nbformat_minor": 5
}
